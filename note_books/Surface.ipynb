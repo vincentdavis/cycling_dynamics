{
 "cells": [
  {
   "cell_type": "code",
   "execution_count": 1,
   "id": "initial_id",
   "metadata": {
    "collapsed": true,
    "ExecuteTime": {
     "end_time": "2024-03-23T13:02:59.071402Z",
     "start_time": "2024-03-23T13:02:59.062270Z"
    }
   },
   "outputs": [],
   "source": [
    "%load_ext autoreload\n",
    "%autoreload 2"
   ]
  },
  {
   "cell_type": "code",
   "outputs": [],
   "source": [
    "from src.cycling_dynamics import load_data\n",
    "\n",
    "df = load_data.load_fit_file(\"../tests/test_data/vincent_lap_1_24HOP_14012433014_ACTIVITY.fit\")\n",
    "df['seconds'] = df.index + 1\n"
   ],
   "metadata": {
    "collapsed": false
   },
   "id": "b2a4de1e5e47dcc8"
  },
  {
   "cell_type": "code",
   "outputs": [],
   "source": [],
   "metadata": {
    "collapsed": false
   },
   "id": "6c7c2e0e6d38e36e"
  }
 ],
 "metadata": {
  "kernelspec": {
   "display_name": "Python 3",
   "language": "python",
   "name": "python3"
  },
  "language_info": {
   "codemirror_mode": {
    "name": "ipython",
    "version": 2
   },
   "file_extension": ".py",
   "mimetype": "text/x-python",
   "name": "python",
   "nbconvert_exporter": "python",
   "pygments_lexer": "ipython2",
   "version": "2.7.6"
  }
 },
 "nbformat": 4,
 "nbformat_minor": 5
}
